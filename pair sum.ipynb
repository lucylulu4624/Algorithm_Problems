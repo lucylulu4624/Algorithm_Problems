{
 "cells": [
  {
   "cell_type": "code",
   "execution_count": 32,
   "metadata": {},
   "outputs": [],
   "source": [
    "def pair_sum(arr,k):\n",
    "    if len(arr)<2:\n",
    "        return\n",
    "    \n",
    "    #sets for tracking\n",
    "    seen=set()\n",
    "    output=set()\n",
    "    \n",
    "    for num in arr:\n",
    "        target=k-num\n",
    "        print target\n",
    "        if target not in seen:\n",
    "            seen.add(num)\n",
    "            print 'seen:',seen\n",
    "        else:\n",
    "            output.add(((min(num,target)),max(num,target)))\n",
    "            print 'output:',output\n",
    "      \n",
    "    return len(output)\n",
    "    print '\\n'.join(map(str,list(output)))\n",
    "    "
   ]
  },
  {
   "cell_type": "code",
   "execution_count": 33,
   "metadata": {},
   "outputs": [
    {
     "name": "stdout",
     "output_type": "stream",
     "text": [
      "3\n",
      "seen: set([1])\n",
      "1\n",
      "output: set([(1, 3)])\n",
      "2\n",
      "seen: set([1, 2])\n",
      "2\n",
      "output: set([(1, 3), (2, 2)])\n",
      "3\n",
      "seen: set([1, 2])\n",
      "1\n",
      "output: set([(1, 3), (2, 2)])\n"
     ]
    },
    {
     "data": {
      "text/plain": [
       "2"
      ]
     },
     "execution_count": 33,
     "metadata": {},
     "output_type": "execute_result"
    }
   ],
   "source": [
    "pair_sum([1,3,2,2,1,3],4)"
   ]
  },
  {
   "cell_type": "code",
   "execution_count": null,
   "metadata": {},
   "outputs": [],
   "source": []
  }
 ],
 "metadata": {
  "kernelspec": {
   "display_name": "Python 2",
   "language": "python",
   "name": "python2"
  },
  "language_info": {
   "codemirror_mode": {
    "name": "ipython",
    "version": 2
   },
   "file_extension": ".py",
   "mimetype": "text/x-python",
   "name": "python",
   "nbconvert_exporter": "python",
   "pygments_lexer": "ipython2",
   "version": "2.7.14"
  }
 },
 "nbformat": 4,
 "nbformat_minor": 2
}
